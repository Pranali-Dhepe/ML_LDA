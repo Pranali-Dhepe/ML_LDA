{
 "cells": [
  {
   "cell_type": "code",
   "execution_count": 1,
   "id": "f7f98344",
   "metadata": {},
   "outputs": [],
   "source": [
    "import pandas as pd\n",
    "import numpy as np\n",
    "from sklearn.preprocessing import MinMaxScaler\n",
    "from sklearn.preprocessing import  StandardScaler"
   ]
  },
  {
   "cell_type": "code",
   "execution_count": 2,
   "id": "f63d96c4",
   "metadata": {},
   "outputs": [
    {
     "data": {
      "text/html": [
       "<div>\n",
       "<style scoped>\n",
       "    .dataframe tbody tr th:only-of-type {\n",
       "        vertical-align: middle;\n",
       "    }\n",
       "\n",
       "    .dataframe tbody tr th {\n",
       "        vertical-align: top;\n",
       "    }\n",
       "\n",
       "    .dataframe thead th {\n",
       "        text-align: right;\n",
       "    }\n",
       "</style>\n",
       "<table border=\"1\" class=\"dataframe\">\n",
       "  <thead>\n",
       "    <tr style=\"text-align: right;\">\n",
       "      <th></th>\n",
       "      <th>Obs</th>\n",
       "      <th>ID</th>\n",
       "      <th>AGE</th>\n",
       "      <th>agrp</th>\n",
       "      <th>CHD</th>\n",
       "    </tr>\n",
       "  </thead>\n",
       "  <tbody>\n",
       "    <tr>\n",
       "      <th>0</th>\n",
       "      <td>1</td>\n",
       "      <td>1</td>\n",
       "      <td>20</td>\n",
       "      <td>1</td>\n",
       "      <td>0</td>\n",
       "    </tr>\n",
       "    <tr>\n",
       "      <th>1</th>\n",
       "      <td>2</td>\n",
       "      <td>2</td>\n",
       "      <td>23</td>\n",
       "      <td>1</td>\n",
       "      <td>0</td>\n",
       "    </tr>\n",
       "    <tr>\n",
       "      <th>2</th>\n",
       "      <td>3</td>\n",
       "      <td>3</td>\n",
       "      <td>24</td>\n",
       "      <td>1</td>\n",
       "      <td>0</td>\n",
       "    </tr>\n",
       "    <tr>\n",
       "      <th>3</th>\n",
       "      <td>4</td>\n",
       "      <td>4</td>\n",
       "      <td>25</td>\n",
       "      <td>1</td>\n",
       "      <td>0</td>\n",
       "    </tr>\n",
       "    <tr>\n",
       "      <th>4</th>\n",
       "      <td>5</td>\n",
       "      <td>5</td>\n",
       "      <td>25</td>\n",
       "      <td>1</td>\n",
       "      <td>1</td>\n",
       "    </tr>\n",
       "  </tbody>\n",
       "</table>\n",
       "</div>"
      ],
      "text/plain": [
       "   Obs  ID  AGE  agrp  CHD\n",
       "0    1   1   20     1    0\n",
       "1    2   2   23     1    0\n",
       "2    3   3   24     1    0\n",
       "3    4   4   25     1    0\n",
       "4    5   5   25     1    1"
      ]
     },
     "execution_count": 2,
     "metadata": {},
     "output_type": "execute_result"
    }
   ],
   "source": [
    "df= pd.read_csv('chd.csv')\n",
    "df.head()"
   ]
  },
  {
   "cell_type": "code",
   "execution_count": 3,
   "id": "4e5c5eb4",
   "metadata": {},
   "outputs": [
    {
     "data": {
      "text/html": [
       "<div>\n",
       "<style scoped>\n",
       "    .dataframe tbody tr th:only-of-type {\n",
       "        vertical-align: middle;\n",
       "    }\n",
       "\n",
       "    .dataframe tbody tr th {\n",
       "        vertical-align: top;\n",
       "    }\n",
       "\n",
       "    .dataframe thead th {\n",
       "        text-align: right;\n",
       "    }\n",
       "</style>\n",
       "<table border=\"1\" class=\"dataframe\">\n",
       "  <thead>\n",
       "    <tr style=\"text-align: right;\">\n",
       "      <th></th>\n",
       "      <th>AGE</th>\n",
       "      <th>CHD</th>\n",
       "    </tr>\n",
       "  </thead>\n",
       "  <tbody>\n",
       "    <tr>\n",
       "      <th>0</th>\n",
       "      <td>20</td>\n",
       "      <td>0</td>\n",
       "    </tr>\n",
       "    <tr>\n",
       "      <th>1</th>\n",
       "      <td>23</td>\n",
       "      <td>0</td>\n",
       "    </tr>\n",
       "    <tr>\n",
       "      <th>2</th>\n",
       "      <td>24</td>\n",
       "      <td>0</td>\n",
       "    </tr>\n",
       "    <tr>\n",
       "      <th>3</th>\n",
       "      <td>25</td>\n",
       "      <td>0</td>\n",
       "    </tr>\n",
       "    <tr>\n",
       "      <th>4</th>\n",
       "      <td>25</td>\n",
       "      <td>1</td>\n",
       "    </tr>\n",
       "  </tbody>\n",
       "</table>\n",
       "</div>"
      ],
      "text/plain": [
       "   AGE  CHD\n",
       "0   20    0\n",
       "1   23    0\n",
       "2   24    0\n",
       "3   25    0\n",
       "4   25    1"
      ]
     },
     "execution_count": 3,
     "metadata": {},
     "output_type": "execute_result"
    }
   ],
   "source": [
    "df1 =df.loc[:, ['AGE', 'CHD']]\n",
    "df1.head()"
   ]
  },
  {
   "cell_type": "code",
   "execution_count": 4,
   "id": "83c05b26",
   "metadata": {},
   "outputs": [],
   "source": [
    "X = df1.iloc[:, :-1].values\n",
    "y = df.iloc[:, -1].values"
   ]
  },
  {
   "cell_type": "code",
   "execution_count": 5,
   "id": "8fe96fd9",
   "metadata": {},
   "outputs": [],
   "source": [
    "from sklearn.discriminant_analysis import LinearDiscriminantAnalysis"
   ]
  },
  {
   "cell_type": "code",
   "execution_count": 6,
   "id": "89796aeb",
   "metadata": {},
   "outputs": [],
   "source": [
    "lda = LinearDiscriminantAnalysis()\n",
    "lda.fit(X, y)\n",
    "yp= lda.predict(X)"
   ]
  },
  {
   "cell_type": "code",
   "execution_count": 7,
   "id": "25984937",
   "metadata": {},
   "outputs": [
    {
     "data": {
      "text/plain": [
       "array([-3.27093953, -2.91548011, -2.79699364, -2.67850717, -2.67850717,\n",
       "       -2.56002069, -2.56002069, -2.32304775, -2.32304775, -2.20456127,\n",
       "       -2.0860748 , -2.0860748 , -2.0860748 , -2.0860748 , -2.0860748 ,\n",
       "       -2.0860748 , -1.84910185, -1.84910185, -1.73061538, -1.73061538,\n",
       "       -1.61212891, -1.61212891, -1.61212891, -1.61212891, -1.61212891,\n",
       "       -1.49364243, -1.49364243, -1.37515596, -1.37515596, -1.37515596,\n",
       "       -1.25666949, -1.25666949, -1.25666949, -1.13818301, -1.13818301,\n",
       "       -1.01969654, -1.01969654, -0.90121007, -0.90121007, -0.78272359,\n",
       "       -0.78272359, -0.66423712, -0.66423712, -0.66423712, -0.66423712,\n",
       "       -0.54575065, -0.54575065, -0.54575065, -0.42726417, -0.42726417,\n",
       "       -0.42726417, -0.42726417, -0.3087777 , -0.3087777 , -0.19029123,\n",
       "       -0.19029123, -0.07180475, -0.07180475, -0.07180475,  0.04668172,\n",
       "        0.04668172,  0.04668172,  0.16516819,  0.16516819,  0.16516819,\n",
       "        0.28365467,  0.28365467,  0.40214114,  0.52062762,  0.52062762,\n",
       "        0.63911409,  0.63911409,  0.75760056,  0.87608704,  0.87608704,\n",
       "        0.87608704,  0.99457351,  0.99457351,  0.99457351,  1.11305998,\n",
       "        1.11305998,  1.11305998,  1.11305998,  1.11305998,  1.11305998,\n",
       "        1.23154646,  1.23154646,  1.23154646,  1.35003293,  1.35003293,\n",
       "        1.4685194 ,  1.4685194 ,  1.58700588,  1.70549235,  1.70549235,\n",
       "        1.82397882,  1.9424653 ,  1.9424653 ,  2.06095177,  2.53489766])"
      ]
     },
     "execution_count": 7,
     "metadata": {},
     "output_type": "execute_result"
    }
   ],
   "source": [
    "lda.decision_function(X)"
   ]
  },
  {
   "cell_type": "code",
   "execution_count": null,
   "id": "622b4b4b",
   "metadata": {},
   "outputs": [],
   "source": []
  }
 ],
 "metadata": {
  "kernelspec": {
   "display_name": "Python 3",
   "language": "python",
   "name": "python3"
  },
  "language_info": {
   "codemirror_mode": {
    "name": "ipython",
    "version": 3
   },
   "file_extension": ".py",
   "mimetype": "text/x-python",
   "name": "python",
   "nbconvert_exporter": "python",
   "pygments_lexer": "ipython3",
   "version": "3.8.8"
  }
 },
 "nbformat": 4,
 "nbformat_minor": 5
}
